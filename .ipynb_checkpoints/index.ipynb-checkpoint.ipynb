{
 "cells": [
  {
   "cell_type": "markdown",
   "id": "1bbde6bc",
   "metadata": {},
   "source": [
    "### Load Datasets\n"
   ]
  },
  {
   "cell_type": "code",
   "execution_count": 1,
   "id": "839b2f75",
   "metadata": {},
   "outputs": [],
   "source": [
    "import pandas as pd"
   ]
  },
  {
   "cell_type": "code",
   "execution_count": 2,
   "id": "28451967",
   "metadata": {},
   "outputs": [
    {
     "name": "stdout",
     "output_type": "stream",
     "text": [
      "\n",
      "movies_df:\n",
      "   movieId                               title  \\\n",
      "0        1                    Toy Story (1995)   \n",
      "1        2                      Jumanji (1995)   \n",
      "2        3             Grumpier Old Men (1995)   \n",
      "3        4            Waiting to Exhale (1995)   \n",
      "4        5  Father of the Bride Part II (1995)   \n",
      "\n",
      "                                        genres  \n",
      "0  Adventure|Animation|Children|Comedy|Fantasy  \n",
      "1                   Adventure|Children|Fantasy  \n",
      "2                               Comedy|Romance  \n",
      "3                         Comedy|Drama|Romance  \n",
      "4                                       Comedy  \n",
      "\n",
      "tags_df:\n",
      "   userId  movieId              tag   timestamp\n",
      "0       2    60756            funny  1445714994\n",
      "1       2    60756  Highly quotable  1445714996\n",
      "2       2    60756     will ferrell  1445714992\n",
      "3       2    89774     Boxing story  1445715207\n",
      "4       2    89774              MMA  1445715200\n",
      "\n",
      "ratings_df:\n",
      "   userId  movieId  rating  timestamp\n",
      "0       1        1     4.0  964982703\n",
      "1       1        3     4.0  964981247\n",
      "2       1        6     4.0  964982224\n",
      "3       1       47     5.0  964983815\n",
      "4       1       50     5.0  964982931\n"
     ]
    }
   ],
   "source": [
    "# List of CSV files along with corresponding column names\n",
    "csv_files_and_columns = [\n",
    "    ('movies.csv', ['movieId', 'title', 'genres']),\n",
    "    #('links.csv', ['movieId', 'imdbId', 'tmdbId']),\n",
    "    ('tags.csv', ['userId', 'movieId', 'tag', 'timestamp']),\n",
    "    ('ratings.csv', ['userId', 'movieId', 'rating', 'timestamp'])\n",
    "]\n",
    "\n",
    "# Dictionary to store DataFrames\n",
    "dataframes = {}\n",
    "\n",
    "# Loop through each CSV file and its corresponding columns\n",
    "for csv_file, columns in csv_files_and_columns:\n",
    "    # Extract the DataFrame name from the file name (remove extension)\n",
    "    df_name = csv_file.split('.')[0]\n",
    "    \n",
    "    # Read the CSV file into a DataFrame with specified column names\n",
    "    dataframes[df_name] = pd.read_csv(csv_file, delimiter=',', header=0, names=columns, skipinitialspace=True)\n",
    "\n",
    "# Access the DataFrames using keys\n",
    "movies_df = dataframes['movies']\n",
    "#links_df = dataframes['links']\n",
    "tags_df = dataframes['tags']\n",
    "ratings_df = dataframes['ratings']\n",
    "\n",
    "# Print the head of each DataFrame\n",
    "for df_name, df in dataframes.items():\n",
    "    print(f\"\\n{df_name}_df:\")\n",
    "    print(df.head())\n"
   ]
  },
  {
   "cell_type": "code",
   "execution_count": 3,
   "id": "942cd8f3",
   "metadata": {},
   "outputs": [
    {
     "name": "stdout",
     "output_type": "stream",
     "text": [
      "\n",
      "Info for merged DataFrame:\n",
      "<class 'pandas.core.frame.DataFrame'>\n",
      "RangeIndex: 285783 entries, 0 to 285782\n",
      "Data columns (total 9 columns):\n",
      " #   Column       Non-Null Count   Dtype  \n",
      "---  ------       --------------   -----  \n",
      " 0   movieId      285783 non-null  int64  \n",
      " 1   title        285783 non-null  object \n",
      " 2   genres       285783 non-null  object \n",
      " 3   userId_x     285762 non-null  float64\n",
      " 4   rating       285762 non-null  float64\n",
      " 5   timestamp_x  285762 non-null  float64\n",
      " 6   userId_y     233234 non-null  float64\n",
      " 7   tag          233234 non-null  object \n",
      " 8   timestamp_y  233234 non-null  float64\n",
      "dtypes: float64(5), int64(1), object(3)\n",
      "memory usage: 19.6+ MB\n",
      "None\n",
      "\n",
      "Summary statistics for merged DataFrame:\n",
      "             movieId       userId_x         rating   timestamp_x  \\\n",
      "count  285783.000000  285762.000000  285762.000000  2.857620e+05   \n",
      "mean    14927.663741     313.894279       3.841270  1.214707e+09   \n",
      "std     31402.673519     179.451387       1.020798  2.233730e+08   \n",
      "min         1.000000       1.000000       0.500000  8.281246e+08   \n",
      "25%       296.000000     160.000000       3.000000  1.019133e+09   \n",
      "50%      1721.000000     314.000000       4.000000  1.211377e+09   \n",
      "75%      5673.000000     465.000000       4.500000  1.445346e+09   \n",
      "max    193609.000000     610.000000       5.000000  1.537799e+09   \n",
      "\n",
      "            userId_y   timestamp_y  \n",
      "count  233234.000000  2.332340e+05  \n",
      "mean      470.681354  1.384754e+09  \n",
      "std       153.324249  1.534705e+08  \n",
      "min         2.000000  1.137179e+09  \n",
      "25%       424.000000  1.242494e+09  \n",
      "50%       477.000000  1.457901e+09  \n",
      "75%       599.000000  1.498457e+09  \n",
      "max       610.000000  1.537099e+09  \n"
     ]
    }
   ],
   "source": [
    "# Merging datasets using movieId as the key\n",
    "#merged_df = pd.merge(dataframes['movies'], dataframes['links'], on='movieId', how='left')\n",
    "merged_df = pd.merge(dataframes['movies'], dataframes['ratings'], on='movieId', how='left')\n",
    "merged_df = pd.merge(merged_df, dataframes['tags'], on='movieId', how='left')\n",
    "\n",
    "# Display information about the merged DataFrame\n",
    "print(\"\\nInfo for merged DataFrame:\")\n",
    "print(merged_df.info())\n",
    "\n",
    "# Display summary statistics for the merged DataFrame\n",
    "print(\"\\nSummary statistics for merged DataFrame:\")\n",
    "print(merged_df.describe())"
   ]
  },
  {
   "cell_type": "markdown",
   "id": "7aee8784",
   "metadata": {},
   "source": [
    "### Data Cleaning"
   ]
  },
  {
   "cell_type": "code",
   "execution_count": 4,
   "id": "ee401a3b",
   "metadata": {},
   "outputs": [
    {
     "data": {
      "text/html": [
       "<div>\n",
       "<style scoped>\n",
       "    .dataframe tbody tr th:only-of-type {\n",
       "        vertical-align: middle;\n",
       "    }\n",
       "\n",
       "    .dataframe tbody tr th {\n",
       "        vertical-align: top;\n",
       "    }\n",
       "\n",
       "    .dataframe thead th {\n",
       "        text-align: right;\n",
       "    }\n",
       "</style>\n",
       "<table border=\"1\" class=\"dataframe\">\n",
       "  <thead>\n",
       "    <tr style=\"text-align: right;\">\n",
       "      <th></th>\n",
       "      <th>movieId</th>\n",
       "      <th>title</th>\n",
       "      <th>genres</th>\n",
       "      <th>userId_x</th>\n",
       "      <th>rating</th>\n",
       "      <th>timestamp_x</th>\n",
       "      <th>userId_y</th>\n",
       "      <th>tag</th>\n",
       "      <th>timestamp_y</th>\n",
       "    </tr>\n",
       "  </thead>\n",
       "  <tbody>\n",
       "    <tr>\n",
       "      <th>0</th>\n",
       "      <td>1</td>\n",
       "      <td>Toy Story (1995)</td>\n",
       "      <td>Adventure|Animation|Children|Comedy|Fantasy</td>\n",
       "      <td>1.0</td>\n",
       "      <td>4.0</td>\n",
       "      <td>964982703.0</td>\n",
       "      <td>336.0</td>\n",
       "      <td>pixar</td>\n",
       "      <td>1.139046e+09</td>\n",
       "    </tr>\n",
       "    <tr>\n",
       "      <th>1</th>\n",
       "      <td>1</td>\n",
       "      <td>Toy Story (1995)</td>\n",
       "      <td>Adventure|Animation|Children|Comedy|Fantasy</td>\n",
       "      <td>1.0</td>\n",
       "      <td>4.0</td>\n",
       "      <td>964982703.0</td>\n",
       "      <td>474.0</td>\n",
       "      <td>pixar</td>\n",
       "      <td>1.137207e+09</td>\n",
       "    </tr>\n",
       "    <tr>\n",
       "      <th>2</th>\n",
       "      <td>1</td>\n",
       "      <td>Toy Story (1995)</td>\n",
       "      <td>Adventure|Animation|Children|Comedy|Fantasy</td>\n",
       "      <td>1.0</td>\n",
       "      <td>4.0</td>\n",
       "      <td>964982703.0</td>\n",
       "      <td>567.0</td>\n",
       "      <td>fun</td>\n",
       "      <td>1.525286e+09</td>\n",
       "    </tr>\n",
       "    <tr>\n",
       "      <th>3</th>\n",
       "      <td>1</td>\n",
       "      <td>Toy Story (1995)</td>\n",
       "      <td>Adventure|Animation|Children|Comedy|Fantasy</td>\n",
       "      <td>5.0</td>\n",
       "      <td>4.0</td>\n",
       "      <td>847434962.0</td>\n",
       "      <td>336.0</td>\n",
       "      <td>pixar</td>\n",
       "      <td>1.139046e+09</td>\n",
       "    </tr>\n",
       "    <tr>\n",
       "      <th>4</th>\n",
       "      <td>1</td>\n",
       "      <td>Toy Story (1995)</td>\n",
       "      <td>Adventure|Animation|Children|Comedy|Fantasy</td>\n",
       "      <td>5.0</td>\n",
       "      <td>4.0</td>\n",
       "      <td>847434962.0</td>\n",
       "      <td>474.0</td>\n",
       "      <td>pixar</td>\n",
       "      <td>1.137207e+09</td>\n",
       "    </tr>\n",
       "  </tbody>\n",
       "</table>\n",
       "</div>"
      ],
      "text/plain": [
       "   movieId             title                                       genres  \\\n",
       "0        1  Toy Story (1995)  Adventure|Animation|Children|Comedy|Fantasy   \n",
       "1        1  Toy Story (1995)  Adventure|Animation|Children|Comedy|Fantasy   \n",
       "2        1  Toy Story (1995)  Adventure|Animation|Children|Comedy|Fantasy   \n",
       "3        1  Toy Story (1995)  Adventure|Animation|Children|Comedy|Fantasy   \n",
       "4        1  Toy Story (1995)  Adventure|Animation|Children|Comedy|Fantasy   \n",
       "\n",
       "   userId_x  rating  timestamp_x  userId_y    tag   timestamp_y  \n",
       "0       1.0     4.0  964982703.0     336.0  pixar  1.139046e+09  \n",
       "1       1.0     4.0  964982703.0     474.0  pixar  1.137207e+09  \n",
       "2       1.0     4.0  964982703.0     567.0    fun  1.525286e+09  \n",
       "3       5.0     4.0  847434962.0     336.0  pixar  1.139046e+09  \n",
       "4       5.0     4.0  847434962.0     474.0  pixar  1.137207e+09  "
      ]
     },
     "execution_count": 4,
     "metadata": {},
     "output_type": "execute_result"
    }
   ],
   "source": [
    "# Creating a copy of the original df\n",
    "new_df = merged_df.copy()\n",
    "new_df.head()"
   ]
  },
  {
   "cell_type": "code",
   "execution_count": 5,
   "id": "7d801d02",
   "metadata": {},
   "outputs": [
    {
     "name": "stdout",
     "output_type": "stream",
     "text": [
      "Index(['movieId', 'title', 'genres', 'userId_x', 'rating', 'timestamp_x',\n",
      "       'userId_y', 'tag', 'timestamp_y'],\n",
      "      dtype='object')\n"
     ]
    }
   ],
   "source": [
    "print(new_df.columns)"
   ]
  },
  {
   "cell_type": "code",
   "execution_count": 6,
   "id": "436bde94",
   "metadata": {},
   "outputs": [
    {
     "name": "stdout",
     "output_type": "stream",
     "text": [
      "Index(['movieId', 'title', 'genres', 'rating', 'tag', 'userId_combined',\n",
      "       'timestamp_combined'],\n",
      "      dtype='object')\n"
     ]
    }
   ],
   "source": [
    "# Combining values from the corresponding '_x' and '_y' columns\n",
    "new_df['userId_combined'] = new_df.apply(lambda row: row['userId_x'] if pd.notnull(row['userId_x']) else row['userId_y'], axis=1)\n",
    "new_df['timestamp_combined'] = new_df.apply(lambda row: row['timestamp_x'] if pd.notnull(row['timestamp_x']) else row['timestamp_y'], axis=1)\n",
    "\n",
    "# Drop the individual columns as they are now combined\n",
    "new_df.drop(['userId_x', 'userId_y', 'timestamp_x', 'timestamp_y'], axis=1, inplace=True)\n",
    "\n",
    "# Display the DataFrame with cleaned column names\n",
    "print(new_df.columns)"
   ]
  },
  {
   "cell_type": "code",
   "execution_count": 7,
   "id": "c72a827d",
   "metadata": {},
   "outputs": [
    {
     "name": "stdout",
     "output_type": "stream",
     "text": [
      "<class 'pandas.core.frame.DataFrame'>\n",
      "RangeIndex: 285783 entries, 0 to 285782\n",
      "Data columns (total 7 columns):\n",
      " #   Column              Non-Null Count   Dtype  \n",
      "---  ------              --------------   -----  \n",
      " 0   movieId             285783 non-null  int64  \n",
      " 1   title               285783 non-null  object \n",
      " 2   genres              285783 non-null  object \n",
      " 3   rating              285762 non-null  float64\n",
      " 4   tag                 233234 non-null  object \n",
      " 5   userId_combined     285783 non-null  float64\n",
      " 6   timestamp_combined  285783 non-null  float64\n",
      "dtypes: float64(3), int64(1), object(3)\n",
      "memory usage: 15.3+ MB\n",
      "None\n"
     ]
    }
   ],
   "source": [
    "# Summary of our merged dataframe\n",
    "print(new_df.info())"
   ]
  },
  {
   "cell_type": "code",
   "execution_count": 8,
   "id": "1d771f8f",
   "metadata": {},
   "outputs": [
    {
     "data": {
      "text/html": [
       "<div>\n",
       "<style scoped>\n",
       "    .dataframe tbody tr th:only-of-type {\n",
       "        vertical-align: middle;\n",
       "    }\n",
       "\n",
       "    .dataframe tbody tr th {\n",
       "        vertical-align: top;\n",
       "    }\n",
       "\n",
       "    .dataframe thead th {\n",
       "        text-align: right;\n",
       "    }\n",
       "</style>\n",
       "<table border=\"1\" class=\"dataframe\">\n",
       "  <thead>\n",
       "    <tr style=\"text-align: right;\">\n",
       "      <th></th>\n",
       "      <th>movieId</th>\n",
       "      <th>title</th>\n",
       "      <th>genres</th>\n",
       "      <th>rating</th>\n",
       "      <th>userId_combined</th>\n",
       "      <th>timestamp_combined</th>\n",
       "    </tr>\n",
       "  </thead>\n",
       "  <tbody>\n",
       "    <tr>\n",
       "      <th>0</th>\n",
       "      <td>1</td>\n",
       "      <td>Toy Story (1995)</td>\n",
       "      <td>Adventure|Animation|Children|Comedy|Fantasy</td>\n",
       "      <td>4.0</td>\n",
       "      <td>1.0</td>\n",
       "      <td>964982703.0</td>\n",
       "    </tr>\n",
       "    <tr>\n",
       "      <th>1</th>\n",
       "      <td>1</td>\n",
       "      <td>Toy Story (1995)</td>\n",
       "      <td>Adventure|Animation|Children|Comedy|Fantasy</td>\n",
       "      <td>4.0</td>\n",
       "      <td>1.0</td>\n",
       "      <td>964982703.0</td>\n",
       "    </tr>\n",
       "    <tr>\n",
       "      <th>2</th>\n",
       "      <td>1</td>\n",
       "      <td>Toy Story (1995)</td>\n",
       "      <td>Adventure|Animation|Children|Comedy|Fantasy</td>\n",
       "      <td>4.0</td>\n",
       "      <td>1.0</td>\n",
       "      <td>964982703.0</td>\n",
       "    </tr>\n",
       "    <tr>\n",
       "      <th>3</th>\n",
       "      <td>1</td>\n",
       "      <td>Toy Story (1995)</td>\n",
       "      <td>Adventure|Animation|Children|Comedy|Fantasy</td>\n",
       "      <td>4.0</td>\n",
       "      <td>5.0</td>\n",
       "      <td>847434962.0</td>\n",
       "    </tr>\n",
       "    <tr>\n",
       "      <th>4</th>\n",
       "      <td>1</td>\n",
       "      <td>Toy Story (1995)</td>\n",
       "      <td>Adventure|Animation|Children|Comedy|Fantasy</td>\n",
       "      <td>4.0</td>\n",
       "      <td>5.0</td>\n",
       "      <td>847434962.0</td>\n",
       "    </tr>\n",
       "  </tbody>\n",
       "</table>\n",
       "</div>"
      ],
      "text/plain": [
       "   movieId             title                                       genres  \\\n",
       "0        1  Toy Story (1995)  Adventure|Animation|Children|Comedy|Fantasy   \n",
       "1        1  Toy Story (1995)  Adventure|Animation|Children|Comedy|Fantasy   \n",
       "2        1  Toy Story (1995)  Adventure|Animation|Children|Comedy|Fantasy   \n",
       "3        1  Toy Story (1995)  Adventure|Animation|Children|Comedy|Fantasy   \n",
       "4        1  Toy Story (1995)  Adventure|Animation|Children|Comedy|Fantasy   \n",
       "\n",
       "   rating  userId_combined  timestamp_combined  \n",
       "0     4.0              1.0         964982703.0  \n",
       "1     4.0              1.0         964982703.0  \n",
       "2     4.0              1.0         964982703.0  \n",
       "3     4.0              5.0         847434962.0  \n",
       "4     4.0              5.0         847434962.0  "
      ]
     },
     "execution_count": 8,
     "metadata": {},
     "output_type": "execute_result"
    }
   ],
   "source": [
    "# We drop the feature 'tag' \n",
    "columns_to_drop = ['tag']\n",
    "new_df = new_df.drop(columns=columns_to_drop, axis=1)\n",
    "new_df.head()"
   ]
  },
  {
   "cell_type": "code",
   "execution_count": 9,
   "id": "3a6d1a7c",
   "metadata": {},
   "outputs": [
    {
     "name": "stdout",
     "output_type": "stream",
     "text": [
      "Missing Values:\n",
      "movieId                0\n",
      "title                  0\n",
      "genres                 0\n",
      "rating                21\n",
      "userId_combined        0\n",
      "timestamp_combined     0\n",
      "dtype: int64\n"
     ]
    }
   ],
   "source": [
    "# Check for missing values\n",
    "missing_values = new_df.isnull().sum()\n",
    "\n",
    "# Display the count of missing values for each column\n",
    "print(\"Missing Values:\")\n",
    "print(missing_values)"
   ]
  },
  {
   "cell_type": "code",
   "execution_count": 10,
   "id": "53c21457",
   "metadata": {},
   "outputs": [
    {
     "name": "stdout",
     "output_type": "stream",
     "text": [
      "Missing Values:\n",
      "movieId               0\n",
      "title                 0\n",
      "genres                0\n",
      "rating                0\n",
      "userId_combined       0\n",
      "timestamp_combined    0\n",
      "dtype: int64\n"
     ]
    }
   ],
   "source": [
    "# Drop rows with missing values\n",
    "new_df = new_df.dropna()\n",
    "\n",
    "# Check for missing values\n",
    "missing_values = new_df.isnull().sum()\n",
    "\n",
    "# Display the count of missing values for each column\n",
    "print(\"Missing Values:\")\n",
    "print(missing_values)"
   ]
  },
  {
   "cell_type": "code",
   "execution_count": 11,
   "id": "9ca5a146",
   "metadata": {},
   "outputs": [
    {
     "name": "stdout",
     "output_type": "stream",
     "text": [
      "Number of duplicates:\n",
      "184926\n",
      "        movieId                           title  \\\n",
      "0             1                Toy Story (1995)   \n",
      "1             1                Toy Story (1995)   \n",
      "2             1                Toy Story (1995)   \n",
      "3             1                Toy Story (1995)   \n",
      "4             1                Toy Story (1995)   \n",
      "...         ...                             ...   \n",
      "285745   187595  Solo: A Star Wars Story (2018)   \n",
      "285770   193565       Gintama: The Movie (2010)   \n",
      "285771   193565       Gintama: The Movie (2010)   \n",
      "285772   193565       Gintama: The Movie (2010)   \n",
      "285773   193565       Gintama: The Movie (2010)   \n",
      "\n",
      "                                             genres  rating  userId_combined  \\\n",
      "0       Adventure|Animation|Children|Comedy|Fantasy     4.0              1.0   \n",
      "1       Adventure|Animation|Children|Comedy|Fantasy     4.0              1.0   \n",
      "2       Adventure|Animation|Children|Comedy|Fantasy     4.0              1.0   \n",
      "3       Adventure|Animation|Children|Comedy|Fantasy     4.0              5.0   \n",
      "4       Adventure|Animation|Children|Comedy|Fantasy     4.0              5.0   \n",
      "...                                             ...     ...              ...   \n",
      "285745             Action|Adventure|Children|Sci-Fi     5.0            586.0   \n",
      "285770               Action|Animation|Comedy|Sci-Fi     3.5            184.0   \n",
      "285771               Action|Animation|Comedy|Sci-Fi     3.5            184.0   \n",
      "285772               Action|Animation|Comedy|Sci-Fi     3.5            184.0   \n",
      "285773               Action|Animation|Comedy|Sci-Fi     3.5            184.0   \n",
      "\n",
      "        timestamp_combined  \n",
      "0             9.649827e+08  \n",
      "1             9.649827e+08  \n",
      "2             9.649827e+08  \n",
      "3             8.474350e+08  \n",
      "4             8.474350e+08  \n",
      "...                    ...  \n",
      "285745        1.529900e+09  \n",
      "285770        1.537099e+09  \n",
      "285771        1.537099e+09  \n",
      "285772        1.537099e+09  \n",
      "285773        1.537099e+09  \n",
      "\n",
      "[209089 rows x 6 columns]\n"
     ]
    }
   ],
   "source": [
    "# Check for duplicates\n",
    "print('Number of duplicates:')\n",
    "print(new_df.duplicated().sum())\n",
    "\n",
    "# Specify the columns based on which you want to identify duplicates\n",
    "columns_to_check = ['userId_combined', 'movieId']\n",
    "\n",
    "# Identify rows with duplicates based on specified columns\n",
    "rows_with_duplicates = new_df[new_df.duplicated(subset=columns_to_check, keep=False)]\n",
    "\n",
    "# Display the resulting DataFrame\n",
    "print(rows_with_duplicates)\n"
   ]
  },
  {
   "cell_type": "code",
   "execution_count": 12,
   "id": "2c821161",
   "metadata": {},
   "outputs": [
    {
     "name": "stdout",
     "output_type": "stream",
     "text": [
      "        movieId                                      title  \\\n",
      "0             1                           Toy Story (1995)   \n",
      "3             1                           Toy Story (1995)   \n",
      "6             1                           Toy Story (1995)   \n",
      "9             1                           Toy Story (1995)   \n",
      "12            1                           Toy Story (1995)   \n",
      "...         ...                                        ...   \n",
      "285778   193581  Black Butler: Book of the Atlantic (2017)   \n",
      "285779   193583               No Game No Life: Zero (2017)   \n",
      "285780   193585                               Flint (2017)   \n",
      "285781   193587        Bungo Stray Dogs: Dead Apple (2018)   \n",
      "285782   193609        Andrew Dice Clay: Dice Rules (1991)   \n",
      "\n",
      "                                             genres  rating  userId_combined  \\\n",
      "0       Adventure|Animation|Children|Comedy|Fantasy     4.0              1.0   \n",
      "3       Adventure|Animation|Children|Comedy|Fantasy     4.0              5.0   \n",
      "6       Adventure|Animation|Children|Comedy|Fantasy     4.5              7.0   \n",
      "9       Adventure|Animation|Children|Comedy|Fantasy     2.5             15.0   \n",
      "12      Adventure|Animation|Children|Comedy|Fantasy     4.5             17.0   \n",
      "...                                             ...     ...              ...   \n",
      "285778              Action|Animation|Comedy|Fantasy     4.0            184.0   \n",
      "285779                     Animation|Comedy|Fantasy     3.5            184.0   \n",
      "285780                                        Drama     3.5            184.0   \n",
      "285781                             Action|Animation     3.5            184.0   \n",
      "285782                                       Comedy     4.0            331.0   \n",
      "\n",
      "        timestamp_combined  \n",
      "0             9.649827e+08  \n",
      "3             8.474350e+08  \n",
      "6             1.106636e+09  \n",
      "9             1.510578e+09  \n",
      "12            1.305696e+09  \n",
      "...                    ...  \n",
      "285778        1.537109e+09  \n",
      "285779        1.537110e+09  \n",
      "285780        1.537110e+09  \n",
      "285781        1.537110e+09  \n",
      "285782        1.537158e+09  \n",
      "\n",
      "[100836 rows x 6 columns]\n"
     ]
    }
   ],
   "source": [
    "# There are instances where a single user has rated a single movie more than once\n",
    "# Removing duplicates where a user rates one movie more than once.\n",
    "# Drop duplicates based on 'userId' and 'movieId'\n",
    "new_df = new_df.drop_duplicates(subset=['userId_combined', 'movieId'])\n",
    "\n",
    "# Display the resulting DataFrame\n",
    "print(new_df)"
   ]
  },
  {
   "cell_type": "code",
   "execution_count": 13,
   "id": "c39cd900",
   "metadata": {},
   "outputs": [
    {
     "data": {
      "text/html": [
       "<div>\n",
       "<style scoped>\n",
       "    .dataframe tbody tr th:only-of-type {\n",
       "        vertical-align: middle;\n",
       "    }\n",
       "\n",
       "    .dataframe tbody tr th {\n",
       "        vertical-align: top;\n",
       "    }\n",
       "\n",
       "    .dataframe thead th {\n",
       "        text-align: right;\n",
       "    }\n",
       "</style>\n",
       "<table border=\"1\" class=\"dataframe\">\n",
       "  <thead>\n",
       "    <tr style=\"text-align: right;\">\n",
       "      <th></th>\n",
       "      <th>movieId</th>\n",
       "      <th>title</th>\n",
       "      <th>genres</th>\n",
       "      <th>rating</th>\n",
       "      <th>userId_combined</th>\n",
       "      <th>timestamp_combined</th>\n",
       "    </tr>\n",
       "  </thead>\n",
       "  <tbody>\n",
       "    <tr>\n",
       "      <th>285778</th>\n",
       "      <td>193581</td>\n",
       "      <td>Black Butler: Book of the Atlantic (2017)</td>\n",
       "      <td>Action|Animation|Comedy|Fantasy</td>\n",
       "      <td>4.0</td>\n",
       "      <td>184.0</td>\n",
       "      <td>2018-09-16 14:44:42</td>\n",
       "    </tr>\n",
       "    <tr>\n",
       "      <th>285779</th>\n",
       "      <td>193583</td>\n",
       "      <td>No Game No Life: Zero (2017)</td>\n",
       "      <td>Animation|Comedy|Fantasy</td>\n",
       "      <td>3.5</td>\n",
       "      <td>184.0</td>\n",
       "      <td>2018-09-16 14:52:25</td>\n",
       "    </tr>\n",
       "    <tr>\n",
       "      <th>285780</th>\n",
       "      <td>193585</td>\n",
       "      <td>Flint (2017)</td>\n",
       "      <td>Drama</td>\n",
       "      <td>3.5</td>\n",
       "      <td>184.0</td>\n",
       "      <td>2018-09-16 14:56:45</td>\n",
       "    </tr>\n",
       "    <tr>\n",
       "      <th>285781</th>\n",
       "      <td>193587</td>\n",
       "      <td>Bungo Stray Dogs: Dead Apple (2018)</td>\n",
       "      <td>Action|Animation</td>\n",
       "      <td>3.5</td>\n",
       "      <td>184.0</td>\n",
       "      <td>2018-09-16 15:00:21</td>\n",
       "    </tr>\n",
       "    <tr>\n",
       "      <th>285782</th>\n",
       "      <td>193609</td>\n",
       "      <td>Andrew Dice Clay: Dice Rules (1991)</td>\n",
       "      <td>Comedy</td>\n",
       "      <td>4.0</td>\n",
       "      <td>331.0</td>\n",
       "      <td>2018-09-17 04:13:26</td>\n",
       "    </tr>\n",
       "  </tbody>\n",
       "</table>\n",
       "</div>"
      ],
      "text/plain": [
       "        movieId                                      title  \\\n",
       "285778   193581  Black Butler: Book of the Atlantic (2017)   \n",
       "285779   193583               No Game No Life: Zero (2017)   \n",
       "285780   193585                               Flint (2017)   \n",
       "285781   193587        Bungo Stray Dogs: Dead Apple (2018)   \n",
       "285782   193609        Andrew Dice Clay: Dice Rules (1991)   \n",
       "\n",
       "                                 genres  rating  userId_combined  \\\n",
       "285778  Action|Animation|Comedy|Fantasy     4.0            184.0   \n",
       "285779         Animation|Comedy|Fantasy     3.5            184.0   \n",
       "285780                            Drama     3.5            184.0   \n",
       "285781                 Action|Animation     3.5            184.0   \n",
       "285782                           Comedy     4.0            331.0   \n",
       "\n",
       "        timestamp_combined  \n",
       "285778 2018-09-16 14:44:42  \n",
       "285779 2018-09-16 14:52:25  \n",
       "285780 2018-09-16 14:56:45  \n",
       "285781 2018-09-16 15:00:21  \n",
       "285782 2018-09-17 04:13:26  "
      ]
     },
     "execution_count": 13,
     "metadata": {},
     "output_type": "execute_result"
    }
   ],
   "source": [
    "# To convert the datetime object from the unix timestamp\n",
    "new_df['timestamp_combined'] = pd.to_datetime(new_df['timestamp_combined'], unit='s')\n",
    "\n",
    "new_df.tail()"
   ]
  },
  {
   "cell_type": "code",
   "execution_count": 14,
   "id": "1f4b08b7",
   "metadata": {},
   "outputs": [
    {
     "name": "stdout",
     "output_type": "stream",
     "text": [
      "<class 'pandas.core.frame.DataFrame'>\n",
      "Index: 100836 entries, 0 to 285782\n",
      "Data columns (total 6 columns):\n",
      " #   Column              Non-Null Count   Dtype         \n",
      "---  ------              --------------   -----         \n",
      " 0   movieId             100836 non-null  int64         \n",
      " 1   title               100836 non-null  object        \n",
      " 2   genres              100836 non-null  object        \n",
      " 3   rating              100836 non-null  float64       \n",
      " 4   userId_combined     100836 non-null  float64       \n",
      " 5   timestamp_combined  100836 non-null  datetime64[ns]\n",
      "dtypes: datetime64[ns](1), float64(2), int64(1), object(2)\n",
      "memory usage: 5.4+ MB\n",
      "None\n",
      "(100836, 6)\n"
     ]
    }
   ],
   "source": [
    "print(new_df.info())\n",
    "print(new_df.shape)"
   ]
  },
  {
   "cell_type": "markdown",
   "id": "264c63d6",
   "metadata": {},
   "source": [
    "### EDA"
   ]
  },
  {
   "cell_type": "markdown",
   "id": "86b42032",
   "metadata": {},
   "source": [
    "### Import Libraries"
   ]
  },
  {
   "cell_type": "code",
   "execution_count": 15,
   "id": "42de84d8",
   "metadata": {},
   "outputs": [],
   "source": [
    "import matplotlib.pyplot as plt\n",
    "import seaborn as sns\n",
    "from scipy.stats import skew"
   ]
  },
  {
   "cell_type": "markdown",
   "id": "39467e3b",
   "metadata": {},
   "source": [
    "#### 1. User Ratings Distribution (Bar Chart)"
   ]
  },
  {
   "cell_type": "code",
   "execution_count": 16,
   "id": "11c42ade",
   "metadata": {
    "scrolled": true
   },
   "outputs": [
    {
     "data": {
      "image/png": "[encoded data removed]",
      "text/plain": [
       "<Figure size 432x288 with 1 Axes>"
      ]
     },
     "metadata": {
      "needs_background": "light"
     },
     "output_type": "display_data"
    },
    {
     "name": "stdout",
     "output_type": "stream",
     "text": [
      "Skewness: -0.6371899104652526\n"
     ]
    }
   ],
   "source": [
    "# Extract the 'rating' column\n",
    "ratings_distribution = new_df['rating']\n",
    "\n",
    "# Plot the distribution\n",
    "ratings_distribution.value_counts().sort_index().plot(kind='bar', rot=0)\n",
    "plt.xlabel('Rating')\n",
    "plt.ylabel('Count')\n",
    "plt.title('Distribution of Ratings')\n",
    "plt.show()\n",
    "\n",
    "# Calculate skewness\n",
    "skewness = skew(ratings_distribution)\n",
    "\n",
    "# Print the skewness value\n",
    "print(\"Skewness:\", skewness)"
   ]
  },
  {
   "cell_type": "markdown",
   "id": "6e2e9e63",
   "metadata": {},
   "source": [
    "Based on the insights of the skewness value and the bar chart of the ratings distribution:\n",
    "\n",
    "1. Skewness: The negative skewness value indicates that the ratings distribution is slightly left-skewed. This means that there is a tendency for more ratings to be on the higher side (above the mean), and the distribution has a longer tail on the left.\n",
    "\n",
    "2. Bar Chart: The bar chart shows a significantly higher count of ratings above 2.5, confirming the left-skewed nature of the distribution. This suggests that a significant portion of the ratings is concentrated towards the higher ratings.\n",
    "\n",
    "Conclusions:\n",
    "\n",
    "Users generally tend to give higher ratings to movies.\n",
    "The distribution is not perfectly symmetrical, indicating a bias towards positive ratings.\n",
    "The left-skewness suggests that there might be a positive sentiment or a tendency to rate movies more favorably."
   ]
  },
  {
   "cell_type": "markdown",
   "id": "0d48a843",
   "metadata": {},
   "source": [
    "#### 2. Number of ratings per user (Bar Chart)"
   ]
  },
  {
   "cell_type": "code",
   "execution_count": 17,
   "id": "3f26bd04",
   "metadata": {},
   "outputs": [
    {
     "data": {
      "image/png": "[encoded data removed]",
      "text/plain": [
       "<Figure size 864x432 with 1 Axes>"
      ]
     },
     "metadata": {
      "needs_background": "light"
     },
     "output_type": "display_data"
    }
   ],
   "source": [
    "min_ratings_threshold = 1000\n",
    "\n",
    "# Filter users with ratings above the threshold\n",
    "user_ratings_count = new_df['userId_combined'].value_counts()\n",
    "user_ratings_count = user_ratings_count[user_ratings_count >= min_ratings_threshold]\n",
    "\n",
    "plt.figure(figsize=(12, 6))\n",
    "sns.barplot(x=user_ratings_count.index, y=user_ratings_count.values, color='salmon')\n",
    "plt.title('Number of Ratings per User (Threshold: 1000 Ratings)')\n",
    "plt.xlabel('User ID')\n",
    "plt.ylabel('Number of Ratings')\n",
    "plt.show()"
   ]
  },
  {
   "cell_type": "markdown",
   "id": "684f570f",
   "metadata": {},
   "source": [
    "The visualization above shows us the power or active users i.e. users with highest count of ratings. The visualization offers useful insights that streaming companies can use for user segmentation and targeting. Higher ratings count may also indicate satisfied and retained customers."
   ]
  },
  {
   "cell_type": "markdown",
   "id": "84773f7b",
   "metadata": {},
   "source": [
    "#### 3. Number of ratings per movie (Popular movies)"
   ]
  },
  {
   "cell_type": "code",
   "execution_count": 18,
   "id": "89948842",
   "metadata": {
    "scrolled": false
   },
   "outputs": [
    {
     "name": "stdout",
     "output_type": "stream",
     "text": [
      "Number of Ratings Per Movie (Descending Order):\n",
      "title\n",
      "Forrest Gump (1994)                          329\n",
      "Shawshank Redemption, The (1994)             317\n",
      "Pulp Fiction (1994)                          307\n",
      "Silence of the Lambs, The (1991)             279\n",
      "Matrix, The (1999)                           278\n",
      "                                            ... \n",
      "King Solomon's Mines (1950)                    1\n",
      "King Solomon's Mines (1937)                    1\n",
      "King Ralph (1991)                              1\n",
      "King Kong Lives (1986)                         1\n",
      "À nous la liberté (Freedom for Us) (1931)      1\n",
      "Name: rating, Length: 9719, dtype: int64\n"
     ]
    },
    {
     "data": {
      "image/png": "[encoded data removed]",
      "text/plain": [
       "<Figure size 864x432 with 1 Axes>"
      ]
     },
     "metadata": {
      "needs_background": "light"
     },
     "output_type": "display_data"
    }
   ],
   "source": [
    "# Count the number of ratings per movie\n",
    "ratings_per_movie = new_df.groupby('title')['rating'].count()\n",
    "\n",
    "# Sort the result in descending order\n",
    "ratings_per_movie_sorted = ratings_per_movie.sort_values(ascending=False)\n",
    "\n",
    "# Display the result\n",
    "print(\"Number of Ratings Per Movie (Descending Order):\")\n",
    "print(ratings_per_movie_sorted)\n",
    "\n",
    "# Plot a bar chart for the top 20 movies with the highest ratings\n",
    "\n",
    "plt.figure(figsize=(12, 6))\n",
    "sns.barplot(x=ratings_per_movie_sorted.head(20).index, y=ratings_per_movie_sorted.head(20).values, color='orange')\n",
    "plt.title('Number of Ratings per Movie (Top 20)')\n",
    "plt.xlabel('Movie Title')\n",
    "plt.ylabel('Number of Ratings')\n",
    "plt.xticks(rotation=90)  # Rotate x-axis labels for better readability\n",
    "plt.show()"
   ]
  },
  {
   "cell_type": "markdown",
   "id": "ec5c06e6",
   "metadata": {},
   "source": [
    "Movies with the highest rating counts provide several insights into user preference and overall quality. Since they are highly rated and widely watched, they can make good candidates for recommending to other users with similar preferences enhancing the overall experience on the platform.  "
   ]
  },
  {
   "cell_type": "markdown",
   "id": "66277ee4",
   "metadata": {},
   "source": [
    "#### 4. Exploring the most popular genres"
   ]
  },
  {
   "cell_type": "code",
   "execution_count": 19,
   "id": "503931ff",
   "metadata": {
    "scrolled": false
   },
   "outputs": [
    {
     "name": "stdout",
     "output_type": "stream",
     "text": [
      "genres\n",
      "Drama                 41928\n",
      "Comedy                39053\n",
      "Action                30635\n",
      "Thriller              26452\n",
      "Adventure             24161\n",
      "Romance               18124\n",
      "Sci-Fi                17243\n",
      "Crime                 16681\n",
      "Fantasy               11834\n",
      "Children               9208\n",
      "Mystery                7674\n",
      "Horror                 7291\n",
      "Animation              6988\n",
      "War                    4859\n",
      "IMAX                   4145\n",
      "Musical                4138\n",
      "Western                1930\n",
      "Documentary            1219\n",
      "Film-Noir               870\n",
      "(no genres listed)       47\n",
      "Name: count, dtype: int64\n"
     ]
    },
    {
     "data": {
      "image/png": "[encoded data removed]",
      "text/plain": [
       "<Figure size 720x432 with 1 Axes>"
      ]
     },
     "metadata": {
      "needs_background": "light"
     },
     "output_type": "display_data"
    }
   ],
   "source": [
    "\n",
    "# Extract genres\n",
    "new_df['genres'] = new_df['genres'].str.split('|')\n",
    "\n",
    "# Count genre occurences\n",
    "# The 'explode' function transforms the list of genres into separate rows\n",
    "genre_counts = new_df['genres'].explode().value_counts()\n",
    "print(genre_counts)\n",
    "\n",
    "# To plot the genre occurences\n",
    "genre_counts.plot(kind='bar', figsize=(10, 6), color='skyblue')\n",
    "plt.xlabel('Genre')\n",
    "plt.ylabel('Count')\n",
    "plt.title('Most Popular Genres')\n",
    "plt.show()"
   ]
  },
  {
   "cell_type": "markdown",
   "id": "f05b622a",
   "metadata": {},
   "source": [
    "The genres listed at the top, such as Drama, Comedy, Action, and Thriller, have the highest counts. This suggests that these genres are more popular or have a higher representation in the dataset.The counts for various genres indicate the diversity of movies in your dataset.Streaming companies could target for marketing or advertising efforts to raise more revenue by running ads during Comedy movie streaming."
   ]
  },
  {
   "cell_type": "markdown",
   "id": "6fe5686c",
   "metadata": {},
   "source": [
    "#### 5. Genre popularity and Ratings Analysis"
   ]
  },
  {
   "cell_type": "code",
   "execution_count": 20,
   "id": "0c11559d",
   "metadata": {},
   "outputs": [
    {
     "data": {
      "image/png": "[encoded data removed]",
      "text/plain": [
       "<Figure size 1008x432 with 2 Axes>"
      ]
     },
     "metadata": {
      "needs_background": "light"
     },
     "output_type": "display_data"
    }
   ],
   "source": [
    "# To check if the popularity of genres is based on demand from users\n",
    "# we can analyze the average ratings or the total number of ratings for each genre.\n",
    "genre_ratings_count = new_df.explode('genres').groupby('genres')['rating'].count()\n",
    "\n",
    "# Set a threshold for the minimum count\n",
    "threshold = 800\n",
    "\n",
    "# Filter genres based on the threshold\n",
    "popular_genres = genre_ratings_count[genre_ratings_count > threshold]\n",
    "\n",
    "# Calculate average ratings for popular genres\n",
    "genre_ratings = new_df[new_df['genres'].apply(lambda genres: any(genre in popular_genres.index for genre in genres))]\\\n",
    "    .explode('genres')\\\n",
    "    .groupby('genres')['rating'].mean()\n",
    "\n",
    "# Visualize the results\n",
    "plt.figure(figsize=(14, 6))\n",
    "\n",
    "# Bar chart for average ratings\n",
    "plt.subplot(1, 2, 1)\n",
    "sns.barplot(x=genre_ratings.index, y=genre_ratings.values, color='skyblue')\n",
    "plt.title('Average Ratings per Popular Genre')\n",
    "plt.xlabel('Genre')\n",
    "plt.ylabel('Average Rating')\n",
    "plt.xticks(rotation=45, ha='right')  # Rotate x-axis labels for better readability\n",
    "\n",
    "# Bar chart for total ratings count\n",
    "plt.subplot(1, 2, 2)\n",
    "sns.barplot(x=popular_genres.index, y=popular_genres.values, color='salmon')\n",
    "plt.title('Total Ratings Count per Popular Genre')\n",
    "plt.xlabel('Genre')\n",
    "plt.ylabel('Total Ratings Count')\n",
    "plt.xticks(rotation=45, ha='right')  # Rotate x-axis labels for better readability\n",
    "\n",
    "plt.tight_layout()\n",
    "plt.show()\n"
   ]
  },
  {
   "cell_type": "markdown",
   "id": "6e10985e",
   "metadata": {},
   "source": [
    "From the visualization on the right,  the top 5 popular genres include  Drama, Comedy,Action, Thriller, and Adventure. They have high counts but relatively moderate average ratings (around 3.5).Niche genres that have lower counts, like Film Noir and Documentary, exhibit higher average ratings, suggesting dedicated viewer interest.It could be that the lower count genres attract a more dedicated audience, contributing to higher average ratings.\n",
    "This could help us tailor recommendations based on both genre popularity and user preferences helping streaming company to enhance user engagement and satisfaction."
   ]
  },
  {
   "cell_type": "code",
   "execution_count": 21,
   "id": "d770242e",
   "metadata": {},
   "outputs": [
    {
     "data": {
      "text/plain": [
       "Index(['movieId', 'title', 'genres', 'rating', 'userId_combined',\n",
       "       'timestamp_combined'],\n",
       "      dtype='object')"
      ]
     },
     "execution_count": 21,
     "metadata": {},
     "output_type": "execute_result"
    }
   ],
   "source": [
    "new_df.columns"
   ]
  },
  {
   "cell_type": "markdown",
   "id": "b6e5f865",
   "metadata": {},
   "source": [
    "#### 6. Ratings Distribution Across the Years"
   ]
  },
  {
   "cell_type": "code",
   "execution_count": 22,
   "id": "b9087331",
   "metadata": {},
   "outputs": [
    {
     "data": {
      "image/png": "[encoded data removed]",
      "text/plain": [
       "<Figure size 864x432 with 1 Axes>"
      ]
     },
     "metadata": {
      "needs_background": "light"
     },
     "output_type": "display_data"
    }
   ],
   "source": [
    "# Extract the year from the timestamp\n",
    "new_df['year'] = new_df['timestamp_combined'].dt.to_period('Y')\n",
    "\n",
    "# Count the number of ratings per year\n",
    "ratings_by_year = new_df['year'].value_counts().sort_index()\n",
    "\n",
    "# Create a line plot to visualize the distribution of ratings across the years\n",
    "plt.figure(figsize=(12, 6))\n",
    "ratings_by_year.plot(marker='o', linestyle='-', color='b')\n",
    "plt.title('Distribution of Ratings Across the Years')\n",
    "plt.xlabel('Year')\n",
    "plt.ylabel('Number of Ratings')\n",
    "plt.xticks(rotation=45)\n",
    "plt.show()"
   ]
  },
  {
   "cell_type": "markdown",
   "id": "2cda00d8",
   "metadata": {},
   "source": [
    "Flunctuations in the trend of ratings over the years may signal changes in user engagement.However, consistent rating over the years suggest that users continue to engage with the platform over an extended period."
   ]
  },
  {
   "cell_type": "code",
   "execution_count": 23,
   "id": "925c9abb",
   "metadata": {},
   "outputs": [
    {
     "data": {
      "text/plain": [
       "Index(['movieId', 'title', 'genres', 'rating', 'userId_combined',\n",
       "       'timestamp_combined', 'year'],\n",
       "      dtype='object')"
      ]
     },
     "execution_count": 23,
     "metadata": {},
     "output_type": "execute_result"
    }
   ],
   "source": [
    "new_df.columns"
   ]
  },
  {
   "cell_type": "code",
   "execution_count": null,
   "id": "208c70c6",
   "metadata": {},
   "outputs": [],
   "source": []
  }
 ],
 "metadata": {
  "kernelspec": {
   "display_name": "Python 3",
   "language": "python",
   "name": "python3"
  },
  "language_info": {
   "codemirror_mode": {
    "name": "ipython",
    "version": 3
   },
   "file_extension": ".py",
   "mimetype": "text/x-python",
   "name": "python",
   "nbconvert_exporter": "python",
   "pygments_lexer": "ipython3",
   "version": "3.8.5"
  }
 },
 "nbformat": 4,
 "nbformat_minor": 5
}
